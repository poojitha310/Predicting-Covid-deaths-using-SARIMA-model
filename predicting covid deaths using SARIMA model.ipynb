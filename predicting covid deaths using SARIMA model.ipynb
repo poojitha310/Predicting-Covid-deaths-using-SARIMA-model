{
 "cells": [
  {
   "cell_type": "code",
   "execution_count": 1,
   "id": "c391f97a",
   "metadata": {},
   "outputs": [],
   "source": [
    "import pandas as pd\n",
    "import numpy as np\n",
    "from pycaret.regression import * \n",
    "import matplotlib.pyplot as plt\n",
    "from math import sqrt\n",
    "from statsmodels.tsa.arima.model import ARIMA\n",
    "from sklearn.metrics import mean_squared_error\n",
    "import pmdarima as pm"
   ]
  },
  {
   "cell_type": "code",
   "execution_count": 2,
   "id": "9d966ff9",
   "metadata": {},
   "outputs": [],
   "source": [
    "from statsmodels.tsa.stattools import acf"
   ]
  },
  {
   "cell_type": "code",
   "execution_count": 3,
   "id": "3247df40",
   "metadata": {},
   "outputs": [],
   "source": [
    "data = pd.read_csv('epidemiology.csv')"
   ]
  },
  {
   "cell_type": "code",
   "execution_count": 4,
   "id": "04e8a545",
   "metadata": {},
   "outputs": [
    {
     "data": {
      "text/plain": [
       "(1048575, 10)"
      ]
     },
     "execution_count": 4,
     "metadata": {},
     "output_type": "execute_result"
    }
   ],
   "source": [
    "data.shape"
   ]
  },
  {
   "cell_type": "code",
   "execution_count": 5,
   "id": "83a93ca0",
   "metadata": {},
   "outputs": [],
   "source": [
    "data['date'] = pd.to_datetime(data['date'],format='%d-%m-%Y' )\n",
    "# sorted_data=data.sort_values(by=['date'])\n",
    "# sorted_data"
   ]
  },
  {
   "cell_type": "code",
   "execution_count": 23,
   "id": "573b1023",
   "metadata": {},
   "outputs": [
    {
     "data": {
      "text/html": [
       "<div>\n",
       "<style scoped>\n",
       "    .dataframe tbody tr th:only-of-type {\n",
       "        vertical-align: middle;\n",
       "    }\n",
       "\n",
       "    .dataframe tbody tr th {\n",
       "        vertical-align: top;\n",
       "    }\n",
       "\n",
       "    .dataframe thead th {\n",
       "        text-align: right;\n",
       "    }\n",
       "</style>\n",
       "<table border=\"1\" class=\"dataframe\">\n",
       "  <thead>\n",
       "    <tr style=\"text-align: right;\">\n",
       "      <th></th>\n",
       "      <th>date</th>\n",
       "      <th>location_key</th>\n",
       "      <th>new_confirmed</th>\n",
       "      <th>new_deceased</th>\n",
       "      <th>new_recovered</th>\n",
       "      <th>new_tested</th>\n",
       "      <th>cumulative_confirmed</th>\n",
       "      <th>cumulative_deceased</th>\n",
       "      <th>cumulative_recovered</th>\n",
       "      <th>cumulative_tested</th>\n",
       "    </tr>\n",
       "  </thead>\n",
       "  <tbody>\n",
       "    <tr>\n",
       "      <th>0</th>\n",
       "      <td>2020-01-01</td>\n",
       "      <td>AD</td>\n",
       "      <td>0.0</td>\n",
       "      <td>0.0</td>\n",
       "      <td>NaN</td>\n",
       "      <td>NaN</td>\n",
       "      <td>0.0</td>\n",
       "      <td>0.0</td>\n",
       "      <td>NaN</td>\n",
       "      <td>NaN</td>\n",
       "    </tr>\n",
       "    <tr>\n",
       "      <th>1</th>\n",
       "      <td>2020-01-02</td>\n",
       "      <td>AD</td>\n",
       "      <td>0.0</td>\n",
       "      <td>0.0</td>\n",
       "      <td>NaN</td>\n",
       "      <td>NaN</td>\n",
       "      <td>0.0</td>\n",
       "      <td>0.0</td>\n",
       "      <td>NaN</td>\n",
       "      <td>NaN</td>\n",
       "    </tr>\n",
       "    <tr>\n",
       "      <th>2</th>\n",
       "      <td>2020-01-03</td>\n",
       "      <td>AD</td>\n",
       "      <td>0.0</td>\n",
       "      <td>0.0</td>\n",
       "      <td>NaN</td>\n",
       "      <td>NaN</td>\n",
       "      <td>0.0</td>\n",
       "      <td>0.0</td>\n",
       "      <td>NaN</td>\n",
       "      <td>NaN</td>\n",
       "    </tr>\n",
       "    <tr>\n",
       "      <th>3</th>\n",
       "      <td>2020-01-04</td>\n",
       "      <td>AD</td>\n",
       "      <td>0.0</td>\n",
       "      <td>0.0</td>\n",
       "      <td>NaN</td>\n",
       "      <td>NaN</td>\n",
       "      <td>0.0</td>\n",
       "      <td>0.0</td>\n",
       "      <td>NaN</td>\n",
       "      <td>NaN</td>\n",
       "    </tr>\n",
       "    <tr>\n",
       "      <th>4</th>\n",
       "      <td>2020-01-05</td>\n",
       "      <td>AD</td>\n",
       "      <td>0.0</td>\n",
       "      <td>0.0</td>\n",
       "      <td>NaN</td>\n",
       "      <td>NaN</td>\n",
       "      <td>0.0</td>\n",
       "      <td>0.0</td>\n",
       "      <td>NaN</td>\n",
       "      <td>NaN</td>\n",
       "    </tr>\n",
       "    <tr>\n",
       "      <th>...</th>\n",
       "      <td>...</td>\n",
       "      <td>...</td>\n",
       "      <td>...</td>\n",
       "      <td>...</td>\n",
       "      <td>...</td>\n",
       "      <td>...</td>\n",
       "      <td>...</td>\n",
       "      <td>...</td>\n",
       "      <td>...</td>\n",
       "      <td>...</td>\n",
       "    </tr>\n",
       "    <tr>\n",
       "      <th>982</th>\n",
       "      <td>2022-09-09</td>\n",
       "      <td>AD</td>\n",
       "      <td>0.0</td>\n",
       "      <td>0.0</td>\n",
       "      <td>NaN</td>\n",
       "      <td>NaN</td>\n",
       "      <td>46113.0</td>\n",
       "      <td>155.0</td>\n",
       "      <td>NaN</td>\n",
       "      <td>NaN</td>\n",
       "    </tr>\n",
       "    <tr>\n",
       "      <th>983</th>\n",
       "      <td>2022-09-10</td>\n",
       "      <td>AD</td>\n",
       "      <td>0.0</td>\n",
       "      <td>0.0</td>\n",
       "      <td>NaN</td>\n",
       "      <td>NaN</td>\n",
       "      <td>46113.0</td>\n",
       "      <td>155.0</td>\n",
       "      <td>NaN</td>\n",
       "      <td>NaN</td>\n",
       "    </tr>\n",
       "    <tr>\n",
       "      <th>984</th>\n",
       "      <td>2022-09-11</td>\n",
       "      <td>AD</td>\n",
       "      <td>0.0</td>\n",
       "      <td>0.0</td>\n",
       "      <td>NaN</td>\n",
       "      <td>NaN</td>\n",
       "      <td>46113.0</td>\n",
       "      <td>155.0</td>\n",
       "      <td>NaN</td>\n",
       "      <td>NaN</td>\n",
       "    </tr>\n",
       "    <tr>\n",
       "      <th>985</th>\n",
       "      <td>2022-09-12</td>\n",
       "      <td>AD</td>\n",
       "      <td>0.0</td>\n",
       "      <td>0.0</td>\n",
       "      <td>NaN</td>\n",
       "      <td>NaN</td>\n",
       "      <td>46113.0</td>\n",
       "      <td>155.0</td>\n",
       "      <td>NaN</td>\n",
       "      <td>NaN</td>\n",
       "    </tr>\n",
       "    <tr>\n",
       "      <th>986</th>\n",
       "      <td>2022-09-13</td>\n",
       "      <td>AD</td>\n",
       "      <td>34.0</td>\n",
       "      <td>0.0</td>\n",
       "      <td>NaN</td>\n",
       "      <td>NaN</td>\n",
       "      <td>46147.0</td>\n",
       "      <td>155.0</td>\n",
       "      <td>NaN</td>\n",
       "      <td>NaN</td>\n",
       "    </tr>\n",
       "  </tbody>\n",
       "</table>\n",
       "<p>987 rows × 10 columns</p>\n",
       "</div>"
      ],
      "text/plain": [
       "          date location_key  new_confirmed  new_deceased  new_recovered  \\\n",
       "0   2020-01-01           AD            0.0           0.0            NaN   \n",
       "1   2020-01-02           AD            0.0           0.0            NaN   \n",
       "2   2020-01-03           AD            0.0           0.0            NaN   \n",
       "3   2020-01-04           AD            0.0           0.0            NaN   \n",
       "4   2020-01-05           AD            0.0           0.0            NaN   \n",
       "..         ...          ...            ...           ...            ...   \n",
       "982 2022-09-09           AD            0.0           0.0            NaN   \n",
       "983 2022-09-10           AD            0.0           0.0            NaN   \n",
       "984 2022-09-11           AD            0.0           0.0            NaN   \n",
       "985 2022-09-12           AD            0.0           0.0            NaN   \n",
       "986 2022-09-13           AD           34.0           0.0            NaN   \n",
       "\n",
       "     new_tested  cumulative_confirmed  cumulative_deceased  \\\n",
       "0           NaN                   0.0                  0.0   \n",
       "1           NaN                   0.0                  0.0   \n",
       "2           NaN                   0.0                  0.0   \n",
       "3           NaN                   0.0                  0.0   \n",
       "4           NaN                   0.0                  0.0   \n",
       "..          ...                   ...                  ...   \n",
       "982         NaN               46113.0                155.0   \n",
       "983         NaN               46113.0                155.0   \n",
       "984         NaN               46113.0                155.0   \n",
       "985         NaN               46113.0                155.0   \n",
       "986         NaN               46147.0                155.0   \n",
       "\n",
       "     cumulative_recovered  cumulative_tested  \n",
       "0                     NaN                NaN  \n",
       "1                     NaN                NaN  \n",
       "2                     NaN                NaN  \n",
       "3                     NaN                NaN  \n",
       "4                     NaN                NaN  \n",
       "..                    ...                ...  \n",
       "982                   NaN                NaN  \n",
       "983                   NaN                NaN  \n",
       "984                   NaN                NaN  \n",
       "985                   NaN                NaN  \n",
       "986                   NaN                NaN  \n",
       "\n",
       "[987 rows x 10 columns]"
      ]
     },
     "execution_count": 23,
     "metadata": {},
     "output_type": "execute_result"
    }
   ],
   "source": [
    "location1=data.loc[data['location_key'] == \"AD\"]\n",
    "location1"
   ]
  },
  {
   "cell_type": "code",
   "execution_count": 126,
   "id": "e92e4456",
   "metadata": {},
   "outputs": [],
   "source": [
    "location1.to_csv(\"dummy.csv\")"
   ]
  },
  {
   "cell_type": "code",
   "execution_count": 7,
   "id": "2647632c",
   "metadata": {},
   "outputs": [
    {
     "data": {
      "text/plain": [
       "<AxesSubplot: xlabel='date', ylabel='cumulative_deceased'>"
      ]
     },
     "execution_count": 7,
     "metadata": {},
     "output_type": "execute_result"
    },
    {
     "data": {
      "image/png": "[encoded data removed]",
      "text/plain": [
       "<Figure size 432x288 with 1 Axes>"
      ]
     },
     "metadata": {
      "needs_background": "light"
     },
     "output_type": "display_data"
    }
   ],
   "source": [
    "import seaborn as sns\n",
    "sns.lineplot(data=location1,x=\"date\",y=\"cumulative_deceased\")"
   ]
  },
  {
   "cell_type": "code",
   "execution_count": 26,
   "id": "e79f609a",
   "metadata": {},
   "outputs": [],
   "source": [
    "location1.drop('location_key',axis=1,inplace=True)\n",
    "location1.drop('cumulative_confirmed',axis=1,inplace=True)\n",
    "location1.drop('new_tested',axis=1,inplace=True)\n",
    "location1.drop('new_recovered',axis=1,inplace=True)\n",
    "location1.drop('new_deceased',axis=1,inplace=True)\n",
    "location1.drop('new_confirmed',axis=1,inplace=True)\n",
    "location1.drop('cumulative_tested',axis=1,inplace=True)\n",
    "location1.drop('cumulative_recovered',axis=1,inplace=True)"
   ]
  },
  {
   "cell_type": "code",
   "execution_count": 27,
   "id": "f9deacc3",
   "metadata": {
    "scrolled": true
   },
   "outputs": [
    {
     "data": {
      "text/html": [
       "<div>\n",
       "<style scoped>\n",
       "    .dataframe tbody tr th:only-of-type {\n",
       "        vertical-align: middle;\n",
       "    }\n",
       "\n",
       "    .dataframe tbody tr th {\n",
       "        vertical-align: top;\n",
       "    }\n",
       "\n",
       "    .dataframe thead th {\n",
       "        text-align: right;\n",
       "    }\n",
       "</style>\n",
       "<table border=\"1\" class=\"dataframe\">\n",
       "  <thead>\n",
       "    <tr style=\"text-align: right;\">\n",
       "      <th></th>\n",
       "      <th>date</th>\n",
       "      <th>cumulative_deceased</th>\n",
       "    </tr>\n",
       "  </thead>\n",
       "  <tbody>\n",
       "    <tr>\n",
       "      <th>0</th>\n",
       "      <td>2020-01-01</td>\n",
       "      <td>0.0</td>\n",
       "    </tr>\n",
       "    <tr>\n",
       "      <th>1</th>\n",
       "      <td>2020-01-02</td>\n",
       "      <td>0.0</td>\n",
       "    </tr>\n",
       "    <tr>\n",
       "      <th>2</th>\n",
       "      <td>2020-01-03</td>\n",
       "      <td>0.0</td>\n",
       "    </tr>\n",
       "    <tr>\n",
       "      <th>3</th>\n",
       "      <td>2020-01-04</td>\n",
       "      <td>0.0</td>\n",
       "    </tr>\n",
       "    <tr>\n",
       "      <th>4</th>\n",
       "      <td>2020-01-05</td>\n",
       "      <td>0.0</td>\n",
       "    </tr>\n",
       "    <tr>\n",
       "      <th>...</th>\n",
       "      <td>...</td>\n",
       "      <td>...</td>\n",
       "    </tr>\n",
       "    <tr>\n",
       "      <th>835</th>\n",
       "      <td>2022-04-15</td>\n",
       "      <td>153.0</td>\n",
       "    </tr>\n",
       "    <tr>\n",
       "      <th>836</th>\n",
       "      <td>2022-04-16</td>\n",
       "      <td>153.0</td>\n",
       "    </tr>\n",
       "    <tr>\n",
       "      <th>837</th>\n",
       "      <td>2022-04-17</td>\n",
       "      <td>153.0</td>\n",
       "    </tr>\n",
       "    <tr>\n",
       "      <th>838</th>\n",
       "      <td>2022-04-18</td>\n",
       "      <td>153.0</td>\n",
       "    </tr>\n",
       "    <tr>\n",
       "      <th>839</th>\n",
       "      <td>2022-04-19</td>\n",
       "      <td>153.0</td>\n",
       "    </tr>\n",
       "  </tbody>\n",
       "</table>\n",
       "<p>840 rows × 2 columns</p>\n",
       "</div>"
      ],
      "text/plain": [
       "          date  cumulative_deceased\n",
       "0   2020-01-01                  0.0\n",
       "1   2020-01-02                  0.0\n",
       "2   2020-01-03                  0.0\n",
       "3   2020-01-04                  0.0\n",
       "4   2020-01-05                  0.0\n",
       "..         ...                  ...\n",
       "835 2022-04-15                153.0\n",
       "836 2022-04-16                153.0\n",
       "837 2022-04-17                153.0\n",
       "838 2022-04-18                153.0\n",
       "839 2022-04-19                153.0\n",
       "\n",
       "[840 rows x 2 columns]"
      ]
     },
     "execution_count": 27,
     "metadata": {},
     "output_type": "execute_result"
    }
   ],
   "source": [
    "location1"
   ]
  },
  {
   "cell_type": "code",
   "execution_count": 10,
   "id": "ec78b9ce",
   "metadata": {
    "scrolled": true
   },
   "outputs": [
    {
     "data": {
      "text/plain": [
       "<AxesSubplot: xlabel='date', ylabel='cumulative_deceased'>"
      ]
     },
     "execution_count": 10,
     "metadata": {},
     "output_type": "execute_result"
    },
    {
     "data": {
      "image/png": "[encoded data removed]",
      "text/plain": [
       "<Figure size 432x288 with 1 Axes>"
      ]
     },
     "metadata": {
      "needs_background": "light"
     },
     "output_type": "display_data"
    }
   ],
   "source": [
    "import seaborn as sns\n",
    "sns.lineplot(data=location1,x=\"date\",y=\"cumulative_deceased\")"
   ]
  },
  {
   "cell_type": "code",
   "execution_count": 29,
   "id": "97f7a03d",
   "metadata": {
    "scrolled": true
   },
   "outputs": [
    {
     "name": "stdout",
     "output_type": "stream",
     "text": [
      "<class 'pandas.core.frame.DataFrame'>\n",
      "DatetimeIndex: 840 entries, 2020-01-01 to 2022-04-19\n",
      "Data columns (total 1 columns):\n",
      " #   Column               Non-Null Count  Dtype  \n",
      "---  ------               --------------  -----  \n",
      " 0   cumulative_deceased  840 non-null    float64\n",
      "dtypes: float64(1)\n",
      "memory usage: 13.1 KB\n"
     ]
    }
   ],
   "source": [
    "location1.set_index('date', inplace=True)\n",
    "location1.info()"
   ]
  },
  {
   "cell_type": "code",
   "execution_count": 30,
   "id": "c42d1b3e",
   "metadata": {},
   "outputs": [],
   "source": [
    "location1= location1[:840]"
   ]
  },
  {
   "cell_type": "code",
   "execution_count": 31,
   "id": "e9460d59",
   "metadata": {},
   "outputs": [
    {
     "data": {
      "text/plain": [
       "<AxesSubplot: xlabel='date'>"
      ]
     },
     "execution_count": 31,
     "metadata": {},
     "output_type": "execute_result"
    },
    {
     "data": {
      "image/png": "[encoded data removed]",
      "text/plain": [
       "<Figure size 1440x576 with 1 Axes>"
      ]
     },
     "metadata": {
      "needs_background": "light"
     },
     "output_type": "display_data"
    }
   ],
   "source": [
    "location1.plot(figsize=(20,8))"
   ]
  },
  {
   "cell_type": "code",
   "execution_count": null,
   "id": "a8c8753c",
   "metadata": {},
   "outputs": [],
   "source": [
    "# sorted_data=location1.sort_values(by=['date'])\n",
    "# sorted_data"
   ]
  },
  {
   "cell_type": "code",
   "execution_count": 124,
   "id": "b62724e1",
   "metadata": {},
   "outputs": [],
   "source": [
    "# filtered_sub1=pd.DataFrame().assign(date=sorted_data['date'], cumulative_deceased=sorted_data['cumulative_deceased'])"
   ]
  },
  {
   "cell_type": "code",
   "execution_count": 9,
   "id": "e9b2260d",
   "metadata": {},
   "outputs": [],
   "source": [
    "# filtered_sub1.drop('stringency_index',axis=1,inplace=True)\n",
    "# filtered_sub1.drop('cumulative_persons_fully_vaccinated',axis=1,inplace=True)\n",
    "# filtered_sub1.drop('cumulative_confirmed',axis=1,inplace=True)\n",
    "# filtered_sub1.drop('average_temperature_celsius',axis=1,inplace=True)\n",
    "# filtered_sub1.drop('population',axis=1,inplace=True)\n",
    "# filtered_sub1.drop('population_density',axis=1,inplace=True)\n",
    "# filtered_sub1.drop('gdp_per_capita_usd',axis=1,inplace=True)\n",
    "# filtered_sub1.drop('location_key',axis=1,inplace=True)\n",
    "# filtered_sub1.drop('country_name',axis=1,inplace=True)\n",
    "# filtered_sub1.drop('subregion1_code',axis=1,inplace=True)"
   ]
  },
  {
   "cell_type": "code",
   "execution_count": 136,
   "id": "01d1dace",
   "metadata": {},
   "outputs": [],
   "source": [
    "# location1.to_csv(\"dummy.csv\")"
   ]
  },
  {
   "cell_type": "code",
   "execution_count": 93,
   "id": "374393fa",
   "metadata": {},
   "outputs": [],
   "source": [
    "# filtered_sub1.plot()"
   ]
  },
  {
   "cell_type": "code",
   "execution_count": 36,
   "id": "5dbefc8c",
   "metadata": {},
   "outputs": [
    {
     "data": {
      "text/plain": [
       "<AxesSubplot: xlabel='date'>"
      ]
     },
     "execution_count": 36,
     "metadata": {},
     "output_type": "execute_result"
    },
    {
     "data": {
      "image/png": "[encoded data removed]",
      "text/plain": [
       "<Figure size 1440x576 with 1 Axes>"
      ]
     },
     "metadata": {
      "needs_background": "light"
     },
     "output_type": "display_data"
    }
   ],
   "source": [
    "train.plot(figsize=(20,8))"
   ]
  },
  {
   "cell_type": "code",
   "execution_count": 94,
   "id": "2213bb86",
   "metadata": {},
   "outputs": [],
   "source": [
    "# filtered_sub1.set_index('date', inplace=True)\n",
    "# filtered_sub1.info()"
   ]
  },
  {
   "cell_type": "code",
   "execution_count": 95,
   "id": "933adf9d",
   "metadata": {},
   "outputs": [],
   "source": [
    "# train.index.values"
   ]
  },
  {
   "cell_type": "code",
   "execution_count": 35,
   "id": "dc386c53",
   "metadata": {},
   "outputs": [],
   "source": [
    "train= location1[:730]\n",
    "test= location1[730:]"
   ]
  },
  {
   "cell_type": "code",
   "execution_count": 37,
   "id": "fc4eafec",
   "metadata": {},
   "outputs": [
    {
     "data": {
      "text/plain": [
       "(110, 1)"
      ]
     },
     "execution_count": 37,
     "metadata": {},
     "output_type": "execute_result"
    }
   ],
   "source": [
    "test.shape"
   ]
  },
  {
   "cell_type": "code",
   "execution_count": 49,
   "id": "1051eefe",
   "metadata": {},
   "outputs": [
    {
     "name": "stdout",
     "output_type": "stream",
     "text": [
      "Performing stepwise search to minimize aic\n",
      " ARIMA(1,1,1)(0,1,1)[7]             : AIC=1247.040, Time=1.01 sec\n",
      " ARIMA(0,1,0)(0,1,0)[7]             : AIC=1424.040, Time=0.05 sec\n",
      " ARIMA(1,1,0)(1,1,0)[7]             : AIC=1347.304, Time=0.23 sec\n",
      " ARIMA(0,1,1)(0,1,1)[7]             : AIC=1251.856, Time=0.40 sec\n",
      " ARIMA(1,1,1)(0,1,0)[7]             : AIC=1426.967, Time=0.35 sec\n",
      " ARIMA(1,1,1)(1,1,1)[7]             : AIC=inf, Time=3.14 sec\n",
      " ARIMA(1,1,1)(0,1,2)[7]             : AIC=inf, Time=4.31 sec\n",
      " ARIMA(1,1,1)(1,1,0)[7]             : AIC=1343.798, Time=0.88 sec\n",
      " ARIMA(1,1,1)(1,1,2)[7]             : AIC=inf, Time=4.30 sec\n",
      " ARIMA(1,1,0)(0,1,1)[7]             : AIC=1251.084, Time=0.36 sec\n",
      " ARIMA(2,1,1)(0,1,1)[7]             : AIC=inf, Time=2.77 sec\n",
      " ARIMA(1,1,2)(0,1,1)[7]             : AIC=inf, Time=3.62 sec\n",
      " ARIMA(0,1,0)(0,1,1)[7]             : AIC=1252.661, Time=0.31 sec\n",
      " ARIMA(0,1,2)(0,1,1)[7]             : AIC=1245.352, Time=0.53 sec\n",
      " ARIMA(0,1,2)(0,1,0)[7]             : AIC=1424.548, Time=0.14 sec\n",
      " ARIMA(0,1,2)(1,1,1)[7]             : AIC=inf, Time=2.08 sec\n",
      " ARIMA(0,1,2)(0,1,2)[7]             : AIC=inf, Time=2.93 sec\n",
      " ARIMA(0,1,2)(1,1,0)[7]             : AIC=1349.293, Time=0.57 sec\n",
      " ARIMA(0,1,2)(1,1,2)[7]             : AIC=inf, Time=4.92 sec\n",
      " ARIMA(0,1,3)(0,1,1)[7]             : AIC=inf, Time=1.35 sec\n",
      " ARIMA(1,1,3)(0,1,1)[7]             : AIC=inf, Time=3.97 sec\n",
      " ARIMA(0,1,2)(0,1,1)[7] intercept   : AIC=1247.268, Time=0.93 sec\n",
      "\n",
      "Best model:  ARIMA(0,1,2)(0,1,1)[7]          \n",
      "Total fit time: 39.154 seconds\n"
     ]
    },
    {
     "data": {
      "text/html": [
       "<table class=\"simpletable\">\n",
       "<caption>SARIMAX Results</caption>\n",
       "<tr>\n",
       "  <th>Dep. Variable:</th>                  <td>y</td>                <th>  No. Observations:  </th>    <td>730</td>  \n",
       "</tr>\n",
       "<tr>\n",
       "  <th>Model:</th>           <td>SARIMAX(0, 1, 2)x(0, 1, [1], 7)</td> <th>  Log Likelihood     </th> <td>-618.676</td>\n",
       "</tr>\n",
       "<tr>\n",
       "  <th>Date:</th>                   <td>Wed, 08 Feb 2023</td>         <th>  AIC                </th> <td>1245.352</td>\n",
       "</tr>\n",
       "<tr>\n",
       "  <th>Time:</th>                       <td>10:45:32</td>             <th>  BIC                </th> <td>1263.681</td>\n",
       "</tr>\n",
       "<tr>\n",
       "  <th>Sample:</th>                         <td>0</td>                <th>  HQIC               </th> <td>1252.427</td>\n",
       "</tr>\n",
       "<tr>\n",
       "  <th></th>                             <td> - 730</td>              <th>                     </th>     <td> </td>   \n",
       "</tr>\n",
       "<tr>\n",
       "  <th>Covariance Type:</th>               <td>opg</td>               <th>                     </th>     <td> </td>   \n",
       "</tr>\n",
       "</table>\n",
       "<table class=\"simpletable\">\n",
       "<tr>\n",
       "     <td></td>        <th>coef</th>     <th>std err</th>      <th>z</th>      <th>P>|z|</th>  <th>[0.025</th>    <th>0.975]</th>  \n",
       "</tr>\n",
       "<tr>\n",
       "  <th>ma.L1</th>   <td>    0.0406</td> <td>    0.031</td> <td>    1.320</td> <td> 0.187</td> <td>   -0.020</td> <td>    0.101</td>\n",
       "</tr>\n",
       "<tr>\n",
       "  <th>ma.L2</th>   <td>    0.1017</td> <td>    0.026</td> <td>    3.952</td> <td> 0.000</td> <td>    0.051</td> <td>    0.152</td>\n",
       "</tr>\n",
       "<tr>\n",
       "  <th>ma.S.L7</th> <td>   -0.7799</td> <td>    0.013</td> <td>  -61.760</td> <td> 0.000</td> <td>   -0.805</td> <td>   -0.755</td>\n",
       "</tr>\n",
       "<tr>\n",
       "  <th>sigma2</th>  <td>    0.3220</td> <td>    0.005</td> <td>   63.195</td> <td> 0.000</td> <td>    0.312</td> <td>    0.332</td>\n",
       "</tr>\n",
       "</table>\n",
       "<table class=\"simpletable\">\n",
       "<tr>\n",
       "  <th>Ljung-Box (L1) (Q):</th>     <td>0.24</td> <th>  Jarque-Bera (JB):  </th> <td>15313.74</td>\n",
       "</tr>\n",
       "<tr>\n",
       "  <th>Prob(Q):</th>                <td>0.62</td> <th>  Prob(JB):          </th>   <td>0.00</td>  \n",
       "</tr>\n",
       "<tr>\n",
       "  <th>Heteroskedasticity (H):</th> <td>0.24</td> <th>  Skew:              </th>   <td>3.29</td>  \n",
       "</tr>\n",
       "<tr>\n",
       "  <th>Prob(H) (two-sided):</th>    <td>0.00</td> <th>  Kurtosis:          </th>   <td>24.58</td> \n",
       "</tr>\n",
       "</table><br/><br/>Warnings:<br/>[1] Covariance matrix calculated using the outer product of gradients (complex-step)."
      ],
      "text/plain": [
       "<class 'statsmodels.iolib.summary.Summary'>\n",
       "\"\"\"\n",
       "                                      SARIMAX Results                                      \n",
       "===========================================================================================\n",
       "Dep. Variable:                                   y   No. Observations:                  730\n",
       "Model:             SARIMAX(0, 1, 2)x(0, 1, [1], 7)   Log Likelihood                -618.676\n",
       "Date:                             Wed, 08 Feb 2023   AIC                           1245.352\n",
       "Time:                                     10:45:32   BIC                           1263.681\n",
       "Sample:                                          0   HQIC                          1252.427\n",
       "                                             - 730                                         \n",
       "Covariance Type:                               opg                                         \n",
       "==============================================================================\n",
       "                 coef    std err          z      P>|z|      [0.025      0.975]\n",
       "------------------------------------------------------------------------------\n",
       "ma.L1          0.0406      0.031      1.320      0.187      -0.020       0.101\n",
       "ma.L2          0.1017      0.026      3.952      0.000       0.051       0.152\n",
       "ma.S.L7       -0.7799      0.013    -61.760      0.000      -0.805      -0.755\n",
       "sigma2         0.3220      0.005     63.195      0.000       0.312       0.332\n",
       "===================================================================================\n",
       "Ljung-Box (L1) (Q):                   0.24   Jarque-Bera (JB):             15313.74\n",
       "Prob(Q):                              0.62   Prob(JB):                         0.00\n",
       "Heteroskedasticity (H):               0.24   Skew:                             3.29\n",
       "Prob(H) (two-sided):                  0.00   Kurtosis:                        24.58\n",
       "===================================================================================\n",
       "\n",
       "Warnings:\n",
       "[1] Covariance matrix calculated using the outer product of gradients (complex-step).\n",
       "\"\"\""
      ]
     },
     "execution_count": 49,
     "metadata": {},
     "output_type": "execute_result"
    }
   ],
   "source": [
    "smodel = pm.auto_arima(train, start_p=1, start_q=1,\n",
    "                         test='kpss',\n",
    "                         max_p=3, max_q=3, m=7,\n",
    "                         start_P=0, seasonal=True,\n",
    "                         d=None, D=1, trace=True,\n",
    "                         error_action='ignore',  \n",
    "                         suppress_warnings=True, \n",
    "                         stepwise=True)\n",
    "\n",
    "smodel.summary()"
   ]
  },
  {
   "cell_type": "code",
   "execution_count": 50,
   "id": "3a523c88",
   "metadata": {},
   "outputs": [],
   "source": [
    "#fitted, conf_int = smodel.predict_in_sample(return_conf_int=True, alpha=0.05)"
   ]
  },
  {
   "cell_type": "code",
   "execution_count": 51,
   "id": "91e5f087",
   "metadata": {},
   "outputs": [],
   "source": [
    "# hd_series = pd.Series(fitted[1:], index=test.index[1:])\n",
    "# hdlower_series = pd.Series(conf_int[1:, 0], index=test.index[1:])\n",
    "# hdupper_series = pd.Series(conf_int[1:, 1], index=test.index[1:])\n",
    "\n",
    "# plt.plot(hd_series,color='red')\n",
    "# plt.fill_between(hdlower_series.index,\n",
    "# hdlower_series,\n",
    "# hdupper_series,\n",
    "# color='k', alpha=.15)\n",
    "# plt.show()"
   ]
  },
  {
   "cell_type": "code",
   "execution_count": 124,
   "id": "f0015152",
   "metadata": {},
   "outputs": [],
   "source": [
    "n_periods = 110\n",
    "fitted, confint = smodel.predict(n_periods=n_periods, return_conf_int=True)\n",
    "#index_of_fc=test.index\n",
    "index_of_fc = pd.date_range(train.index[-1], periods = n_periods, freq='D')"
   ]
  },
  {
   "cell_type": "code",
   "execution_count": 125,
   "id": "34a1125d",
   "metadata": {},
   "outputs": [],
   "source": [
    "fitted_series = pd.Series(fitted, index=index_of_fc)\n",
    "lower_series = pd.Series(confint[:, 0], index=index_of_fc)\n",
    "upper_series = pd.Series(confint[:, 1], index=index_of_fc)"
   ]
  },
  {
   "cell_type": "code",
   "execution_count": 126,
   "id": "5bb28c53",
   "metadata": {},
   "outputs": [
    {
     "data": {
      "text/plain": [
       "<AxesSubplot: xlabel='date'>"
      ]
     },
     "execution_count": 126,
     "metadata": {},
     "output_type": "execute_result"
    },
    {
     "data": {
      "image/png": "[encoded data removed]",
      "text/plain": [
       "<Figure size 1440x576 with 1 Axes>"
      ]
     },
     "metadata": {
      "needs_background": "light"
     },
     "output_type": "display_data"
    }
   ],
   "source": [
    "ax = train.plot()\n",
    "test.plot(figsize=(20,8),ax=ax)"
   ]
  },
  {
   "cell_type": "code",
   "execution_count": 127,
   "id": "cff8b19f",
   "metadata": {},
   "outputs": [
    {
     "data": {
      "image/png": "[encoded data removed]",
      "text/plain": [
       "<Figure size 1440x576 with 1 Axes>"
      ]
     },
     "metadata": {
      "needs_background": "light"
     },
     "output_type": "display_data"
    }
   ],
   "source": [
    "plt.figure(figsize=(20,8))\n",
    "plt.plot(train, label='train data')\n",
    "plt.plot(test, color='red', label='test data')\n",
    "plt.plot(fitted_series, color='yellow',label='forecast')\n",
    "# plt.fill_between(lower_series.index, \n",
    "#                  lower_series, \n",
    "#                  upper_series, \n",
    "#                  color='k', alpha=.15)\n",
    "plt.legend(loc='upper left', fontsize=15)\n",
    "plt.title(\"Forecast for next 6 months\")\n",
    "plt.show()"
   ]
  },
  {
   "cell_type": "code",
   "execution_count": 128,
   "id": "c223eb23",
   "metadata": {},
   "outputs": [
    {
     "data": {
      "text/plain": [
       "{'mape': 0.01776135169662837,\n",
       " 'me': 2.678790976428184,\n",
       " 'mae': 2.6973478001475413,\n",
       " 'mpe': 0.017633954617406515,\n",
       " 'rmse': 3.9305748589979466,\n",
       " 'corr': 0.9458130121669871,\n",
       " 'minmax': 0.017129061859700867}"
      ]
     },
     "execution_count": 128,
     "metadata": {},
     "output_type": "execute_result"
    }
   ],
   "source": [
    "def forecast_accuracy(forecast, actual):\n",
    "    mape = np.mean(np.abs(forecast - actual)/np.abs(actual))  # MAPE\n",
    "    me = np.mean(forecast - actual)             # ME\n",
    "    mae = np.mean(np.abs(forecast - actual))    # MAE\n",
    "    mpe = np.mean((forecast - actual)/actual)   # MPE\n",
    "    rmse = np.mean((forecast - actual)**2)**.5  # RMSE\n",
    "    corr = np.corrcoef(forecast, actual)[0,1]   # corr\n",
    "    mins = np.amin(np.hstack([forecast[:,None], \n",
    "                              actual[:,None]]), axis=1)\n",
    "    maxs = np.amax(np.hstack([forecast[:,None], \n",
    "                              actual[:,None]]), axis=1)\n",
    "    minmax = 1 - np.mean(mins/maxs)             # minmax\n",
    "    #acf1 = acf(fc-test)[1]                      # ACF1\n",
    "    return({'mape':mape, 'me':me, 'mae': mae, \n",
    "            'mpe': mpe, 'rmse':rmse,  \n",
    "            'corr':corr, 'minmax':minmax})\n",
    "\n",
    "forecast_accuracy(fitted, test.values.ravel())"
   ]
  },
  {
   "cell_type": "code",
   "execution_count": 96,
   "id": "5b0f094d",
   "metadata": {},
   "outputs": [],
   "source": [
    "# fitted.tolist()"
   ]
  },
  {
   "cell_type": "code",
   "execution_count": 97,
   "id": "641ebcb6",
   "metadata": {},
   "outputs": [],
   "source": [
    "# test.values.ravel()"
   ]
  },
  {
   "cell_type": "code",
   "execution_count": 130,
   "id": "ec1a4178",
   "metadata": {},
   "outputs": [],
   "source": [
    "# model1=ARIMA(train,order=(2,2,2))\n",
    "# fitted=model1.fit()\n",
    "# fitted.summary()"
   ]
  },
  {
   "cell_type": "code",
   "execution_count": 118,
   "id": "4406b430",
   "metadata": {},
   "outputs": [],
   "source": [
    "# predicted=fitted.forecast(500)"
   ]
  },
  {
   "cell_type": "code",
   "execution_count": 129,
   "id": "bda3cc34",
   "metadata": {},
   "outputs": [],
   "source": [
    "# predicted.plot(figsize=(20,8))"
   ]
  },
  {
   "cell_type": "code",
   "execution_count": null,
   "id": "b77bd2a7",
   "metadata": {},
   "outputs": [],
   "source": []
  }
 ],
 "metadata": {
  "kernelspec": {
   "display_name": "Python 3 (ipykernel)",
   "language": "python",
   "name": "python3"
  },
  "language_info": {
   "codemirror_mode": {
    "name": "ipython",
    "version": 3
   },
   "file_extension": ".py",
   "mimetype": "text/x-python",
   "name": "python",
   "nbconvert_exporter": "python",
   "pygments_lexer": "ipython3",
   "version": "3.10.7"
  }
 },
 "nbformat": 4,
 "nbformat_minor": 5
}
